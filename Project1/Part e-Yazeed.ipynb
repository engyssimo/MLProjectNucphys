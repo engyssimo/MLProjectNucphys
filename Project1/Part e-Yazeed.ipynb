{
 "cells": [
  {
   "cell_type": "code",
   "execution_count": 3,
   "id": "bf197be5",
   "metadata": {},
   "outputs": [],
   "source": [
    "import numpy as np\n",
    "import pandas as pd\n",
    "import seaborn as sns\n",
    "from mpl_toolkits.mplot3d import Axes3D\n",
    "import matplotlib.pyplot as plt\n",
    "from matplotlib import cm\n",
    "from matplotlib.ticker import LinearLocator, FormatStrFormatter\n",
    "from numpy.random import random, seed\n",
    "from sklearn.model_selection import train_test_split\n",
    "from sklearn import linear_model\n",
    "from sklearn.metrics import mean_squared_error, r2_score\n",
    "from IPython.display import display\n",
    "from scipy.stats import norm\n",
    "from sklearn.model_selection import KFold\n",
    "from sklearn.model_selection import cross_val_score\n",
    "from sklearn.preprocessing import PolynomialFeatures, StandardScaler\n",
    "from sklearn.datasets import load_boston\n",
    "from sklearn.linear_model import LinearRegression"
   ]
  },
  {
   "cell_type": "code",
   "execution_count": 79,
   "id": "7e153553",
   "metadata": {},
   "outputs": [],
   "source": [
    "#Here we will define the rigid regression function instead of using the function SKL\n",
    "#Because we have a problem, where A singular matrix is very likely due to features that are very close to each other (or duplicates).\n",
    "#Then I think to avoid such a problem we can define the rigid regression by our self\n",
    "\n",
    "def Ridge_regression(X_train,X_test,z_train,z_test,lamb):\n",
    "    df=pd.DataFrame(X_train)\n",
    "    col=len(df.columns)\n",
    "    I = np.eye(col,col)\n",
    "    Ridgebeta = np.linalg.pinv(X_train.T @ X_train+lamb*I) @ X_train.T @ z_train\n",
    "    z_train_pre = X_train @ Ridgebeta\n",
    "    z_test_pre = X_test @ Ridgebeta\n",
    "    return z_train_pre, z_test_pre\n",
    "\n",
    "\n",
    "def FrankeFunction(x,y):\n",
    "    term1 = 0.75*np.exp(-(0.25*(9*x-2)**2) - 0.25*((9*y-2)**2))\n",
    "    term2 = 0.75*np.exp(-((9*x+1)**2)/49.0 - 0.1*(9*y+1))\n",
    "    term3 = 0.5*np.exp(-(9*x-7)**2/4.0 - 0.25*((9*y-3)**2))\n",
    "    term4 = -0.2*np.exp(-(9*x-4)**2 - (9*y-7)**2)\n",
    "    return term1 + term2 + term3 + term4\n",
    "\n",
    "def create_X(x, y, n=1 ):\n",
    "    '''from x, y meshgrid vectors computes the design matrix for a polynomial model of degree n.'''\n",
    "    if len(x.shape) > 1:\n",
    "        x = np.ravel(x)\n",
    "        y = np.ravel(y)\n",
    "\n",
    "    N = len(x)\n",
    "    l = int((n+1)*(n+2)/2) # Number of elements in beta\n",
    "    X = np.ones((N,l))\n",
    "\n",
    "    \n",
    "    for i in range(1,n+1):\n",
    "        #starting from the index after the i-1 degree\n",
    "        q = int((i)*(i+1)/2)\n",
    "        for k in range(i+1):\n",
    "            #combinations of powers of x and y, starting from x**i\n",
    "            X[:,q+k] = (x**(i-k))*(y**k)\n",
    "            \n",
    "    # The design matrix is set up as 1,x,y,x**2,x*y,y**2\n",
    "    return X\n",
    "\n",
    "def OLS(X_train, X_test, z_train, z_test):\n",
    "    '''\n",
    "    Fit the model with OLS regression using the train set and \n",
    "    returns the predicted values for both the train and the test set.\n",
    "    '''\n",
    "    \n",
    "    #extract regression coefficients\n",
    "    beta_ols = np.linalg.pinv(X_train.T@X_train)@(X_train.T)@z_train\n",
    "    \n",
    "    #predict train and test values\n",
    "    z_train_tilde_ols = X_train@beta_ols\n",
    "    z_test_tilde_ols = X_test@beta_ols\n",
    "    \n",
    "    return z_train_tilde_ols, z_test_tilde_ols\n",
    "\n",
    "#Important to split the data set before shuffling \n",
    "def bootstrap_OLS(X_train, X_test, z_train, z_test, n_bootstrap): \n",
    "    MSE = np.zeros((n_bootstrap,2))\n",
    "    n = len(z_train)\n",
    "    z_tilde_train_ols = np.empty((len(z_train), n_bootstrap))\n",
    "    z_tilde_test_ols = np.empty((len(z_test), n_bootstrap))\n",
    "    for i in range(n_bootstrap):\n",
    "        sequence = np.random.randint(0,n,n)\n",
    "        X1_train = X_train[sequence]\n",
    "        z1_train = z_train[sequence]  \n",
    "        z_tilde_train_ols[:,i] , z_tilde_test_ols[:,i] = OLS(X1_train, X_test, z1_train, z_test) \n",
    "        MSE[i,0] = mean_squared_error(z1_train,z_tilde_train_ols[:,i]) \n",
    "        MSE[i,1] = mean_squared_error(z_test,z_tilde_test_ols[:,i])  \n",
    "    return z_tilde_train_ols, z_tilde_test_ols, MSE\n",
    "# From now on, index 0 corresponds to train and 1 to test\n",
    "\n",
    "def cross_validation_OLS(k_folds, X, z):\n",
    "    MSE_train = []\n",
    "    MSE_test = []\n",
    "    kfold = KFold(n_splits = k_folds)\n",
    "    for train_inds, test_inds in kfold.split(X):\n",
    "        X_train = X[train_inds]\n",
    "        z_train = z[train_inds]\n",
    "\n",
    "        X_test = X[test_inds]\n",
    "        z_test = z[test_inds]\n",
    "\n",
    "        z_train_tilde_ols , z_test_tilde_ols = OLS(X_train, X_test, z_train, z_test)\n",
    "        \n",
    "        MSE_train.append(mean_squared_error(z_train, z_train_tilde_ols))\n",
    "        MSE_test.append(mean_squared_error(z_test, z_test_tilde_ols))\n",
    "        \n",
    "    MSE_train_mean = np.mean(MSE_train)\n",
    "    MSE_test_mean = np.mean(MSE_test)\n",
    "    return MSE_train_mean, MSE_test_mean\n",
    "\n",
    "def Ridge(X_train,X_test,z_train,z_test,lambd):\n",
    "\n",
    "    # Since it relates to remove intercepts, better to use built in function in SKL\n",
    "    RegRidge = linear_model.Ridge(lambd,fit_intercept= True, solver = \"lsqr\")\n",
    "    \n",
    "    #fit the model to the training data\n",
    "    RegRidge.fit(X_train,z_train)\n",
    "    \n",
    "    # and then make the prediction\n",
    "    z_tilde_train = RegRidge.predict(X_train)\n",
    "    z_tilde_test = RegRidge.predict(X_test)\n",
    "    \n",
    "    return z_tilde_train, z_tilde_test\n",
    "\n",
    "#Important to split the data set before shuffling \n",
    "def bootstrap_Ridge(X_train, X_test, z_train, z_test, n_bootstrap, lambd): \n",
    "    \n",
    "    #prepare arrays for output\n",
    "    MSE = np.zeros((n_bootstrap,2))\n",
    "    z_tilde_train = np.zeros((len(z_train), n_bootstrap))\n",
    "    z_tilde_test = np.zeros((len(z_test), n_bootstrap))\n",
    "    \n",
    "    n = len(z_train)\n",
    "    \n",
    "    #cycle on resamplings\n",
    "    for i in range(n_bootstrap):\n",
    "        \n",
    "        #extract sequence for resampling\n",
    "        sequence = np.random.randint(0,n,n)\n",
    "        \n",
    "        #resampled arrays\n",
    "        X1_train = X_train[sequence]\n",
    "        z1_train = z_train[sequence]\n",
    "        \n",
    "        #fit and predict\n",
    "        z_tilde_train[:,i], z_tilde_test[:,i] = Ridge_regression(X1_train, X_test, z1_train, z_test, lambd)\n",
    "        \n",
    "        #calculate mse on train and test\n",
    "        MSE[i,0] = mean_squared_error(z1_train,z_tilde_train[:,i])\n",
    "        MSE[i,1] = mean_squared_error(z_test,z_tilde_test[:,i])\n",
    "\n",
    "    return z_tilde_train, z_tilde_test, MSE\n",
    "\n",
    "def cross_validation_Ridge(k_folds, X, z, lambd):\n",
    "    MSE_train = []\n",
    "    MSE_test = []\n",
    "    kfold = KFold(n_splits = k_folds)\n",
    "    for train_inds, test_inds in kfold.split(X):\n",
    "        X_train = X[train_inds]\n",
    "        z_train = z[train_inds]\n",
    "\n",
    "        X_test = X[test_inds]\n",
    "        z_test = z[test_inds]\n",
    "\n",
    "        z_train_tilde_Ridge, z_test_tilde_Ridge = Ridge_regression( X_train, X_test, z_train, z_test, lambd)\n",
    "        \n",
    "        MSE_train.append(mean_squared_error(z_train, z_train_tilde_Ridge))\n",
    "        MSE_test.append(mean_squared_error(z_test, z_test_tilde_Ridge))\n",
    "    MSE_train_mean = np.mean(MSE_train)\n",
    "    MSE_test_mean = np.mean(MSE_test)\n",
    "    return MSE_train_mean, MSE_test_mean"
   ]
  },
  {
   "cell_type": "code",
   "execution_count": 5,
   "id": "7c9ac9af",
   "metadata": {},
   "outputs": [],
   "source": [
    "#We have to discuss the value of threshold that we have set for creating our input  data to create the desigen matrix"
   ]
  },
  {
   "cell_type": "code",
   "execution_count": 6,
   "id": "05826b42",
   "metadata": {},
   "outputs": [
    {
     "name": "stdout",
     "output_type": "stream",
     "text": [
      "['CRIM', 'ZN', 'INDUS', 'CHAS', 'NOX', 'RM', 'AGE', 'DIS', 'RAD', 'TAX', 'PTRATIO', 'B', 'LSTAT']\n",
      "        CRIM    ZN  INDUS  CHAS    NOX     RM   AGE     DIS  RAD    TAX  \\\n",
      "0    0.00632  18.0   2.31   0.0  0.538  6.575  65.2  4.0900  1.0  296.0   \n",
      "1    0.02731   0.0   7.07   0.0  0.469  6.421  78.9  4.9671  2.0  242.0   \n",
      "2    0.02729   0.0   7.07   0.0  0.469  7.185  61.1  4.9671  2.0  242.0   \n",
      "3    0.03237   0.0   2.18   0.0  0.458  6.998  45.8  6.0622  3.0  222.0   \n",
      "4    0.06905   0.0   2.18   0.0  0.458  7.147  54.2  6.0622  3.0  222.0   \n",
      "..       ...   ...    ...   ...    ...    ...   ...     ...  ...    ...   \n",
      "501  0.06263   0.0  11.93   0.0  0.573  6.593  69.1  2.4786  1.0  273.0   \n",
      "502  0.04527   0.0  11.93   0.0  0.573  6.120  76.7  2.2875  1.0  273.0   \n",
      "503  0.06076   0.0  11.93   0.0  0.573  6.976  91.0  2.1675  1.0  273.0   \n",
      "504  0.10959   0.0  11.93   0.0  0.573  6.794  89.3  2.3889  1.0  273.0   \n",
      "505  0.04741   0.0  11.93   0.0  0.573  6.030  80.8  2.5050  1.0  273.0   \n",
      "\n",
      "     PTRATIO       B  LSTAT  MEDV  \n",
      "0       15.3  396.90   4.98  24.0  \n",
      "1       17.8  396.90   9.14  21.6  \n",
      "2       17.8  392.83   4.03  34.7  \n",
      "3       18.7  394.63   2.94  33.4  \n",
      "4       18.7  396.90   5.33  36.2  \n",
      "..       ...     ...    ...   ...  \n",
      "501     21.0  391.99   9.67  22.4  \n",
      "502     21.0  396.90   9.08  20.6  \n",
      "503     21.0  396.90   5.64  23.9  \n",
      "504     21.0  393.45   6.48  22.0  \n",
      "505     21.0  396.90   7.88  11.9  \n",
      "\n",
      "[506 rows x 14 columns]\n"
     ]
    }
   ],
   "source": [
    "boston_data = load_boston()\n",
    "boston_df = pd.DataFrame(boston_data.data, columns=boston_data.feature_names)\n",
    "boston_df['MEDV'] = boston_data.target\n",
    "features = boston_df.columns.tolist() \n",
    "print(features[:-1])\n",
    "print(boston_df)\n"
   ]
  },
  {
   "cell_type": "code",
   "execution_count": 7,
   "id": "91d415c6",
   "metadata": {},
   "outputs": [],
   "source": [
    "def drop_columns(array_corr,thres_corr):\n",
    "    ''' Function takes in a value of thresholding and return the filtered dataframe, excluding already the target columns'''\n",
    "    thresh_index = np.where((array_corr> thres_corr) == False)\n",
    "    col_indi = np.append(thresh_index[0],13) # add target column\n",
    "    filtered_boston = boston_df.drop(boston_df.columns[col_indi], axis=1)  \n",
    "    return filtered_boston"
   ]
  },
  {
   "cell_type": "code",
   "execution_count": 9,
   "id": "a726491b",
   "metadata": {},
   "outputs": [],
   "source": [
    "#Here we dfeine arrat_corr\n",
    "corr_matrix = boston_df.corr().round(2)\n",
    "array_corr = corr_matrix[\"MEDV\"].abs()"
   ]
  },
  {
   "cell_type": "code",
   "execution_count": 24,
   "metadata": {},
   "outputs": [
    {
     "data": {
      "image/png": "[encoded data removed]",
      "text/plain": [
       "<Figure size 432x288 with 1 Axes>"
      ]
     },
     "metadata": {
      "needs_background": "light"
     },
     "output_type": "display_data"
    }
   ],
   "source": [
    "#### degree of the polynomial model\n",
    "maxdegree = 4\n",
    "\n",
    "#target feature\n",
    "z = boston_df['MEDV']\n",
    "x = boston_df[features[:-1]] # original features\n",
    "\n",
    "polydegree = np.zeros(maxdegree)\n",
    "MSE_OLS = np.zeros((maxdegree,2))\n",
    "R2_OLS=np.zeros((maxdegree,2))\n",
    "\n",
    "x = drop_columns(array_corr,0.3)\n",
    "#Here we have different results depending on the threshold value where 0.3 much worse compaire to 0.4\n",
    "\n",
    "for degree in range(maxdegree):\n",
    "    poly = PolynomialFeatures(degree+1)\n",
    "    \n",
    "    X = poly.fit_transform(x)\n",
    "    \n",
    "    X_train, X_test, z_train, z_test = train_test_split(np.array(X), np.array(z), test_size=0.3, random_state = 2)\n",
    "    \n",
    "   \n",
    "    polydegree[degree] = degree+1\n",
    "    \n",
    "    z_train_tilde_ols , z_test_tilde_ols = OLS(X_train, X_test, z_train, z_test) \n",
    "    \n",
    "    MSE_OLS[degree, 0] = mean_squared_error(z_train,z_train_tilde_ols)\n",
    "    MSE_OLS[degree, 1] = mean_squared_error(z_test,z_test_tilde_ols)  \n",
    "    R2_OLS[degree,0]= r2_score(z_train,z_train_tilde_ols)\n",
    "    R2_OLS[degree,1]= r2_score(z_test,z_test_tilde_ols)\n",
    "    \n",
    "#plot the results\n",
    "plt.plot(polydegree,MSE_OLS[:,0],label='MSE_Train')\n",
    "plt.plot(polydegree,MSE_OLS[:,1],label='MSE_Test')\n",
    "plt.xlabel('Complexity(polynomial degree)')\n",
    "plt.ylabel('MSE')\n",
    "#plt.ylim(0,50)\n",
    "#plt.yscale(\"log\")\n",
    "plt.legend()\n",
    "plt.show()\n"
   ]
  },
  {
   "cell_type": "code",
   "execution_count": 25,
   "id": "2629d210",
   "metadata": {},
   "outputs": [
    {
     "data": {
      "image/png": "[encoded data removed]",
      "text/plain": [
       "<Figure size 432x288 with 1 Axes>"
      ]
     },
     "metadata": {
      "needs_background": "light"
     },
     "output_type": "display_data"
    }
   ],
   "source": [
    "#R2-Plots \n",
    "plt.plot(polydegree,R2_OLS[:,0],label='R2_Train')\n",
    "plt.plot(polydegree,R2_OLS[:,1],label='R2_Test')\n",
    "plt.xlabel('Complexity(polynomial degree)')\n",
    "plt.ylabel('R2')\n",
    "plt.legend()\n",
    "plt.show()"
   ]
  },
  {
   "cell_type": "code",
   "execution_count": 26,
   "id": "47204f6a",
   "metadata": {},
   "outputs": [
    {
     "data": {
      "image/png": "[encoded data removed]",
      "text/plain": [
       "<Figure size 432x288 with 1 Axes>"
      ]
     },
     "metadata": {
      "needs_background": "light"
     },
     "output_type": "display_data"
    }
   ],
   "source": [
    "#degree of the polynomial model\n",
    "maxdegree = 3\n",
    "\n",
    "n_bs = 200\n",
    "\n",
    "k_folds = 6\n",
    "\n",
    "#target feature\n",
    "z = boston_df['MEDV']\n",
    "x = boston_df[features[:-1]] # original features\n",
    "\n",
    "x = drop_columns(array_corr,0.4)\n",
    "\n",
    "polydegree = np.zeros(maxdegree)\n",
    "MSE_boot = np.zeros((maxdegree,2))\n",
    "MSE_cv = np.zeros((maxdegree,2))\n",
    "for degree in range(maxdegree):\n",
    "    \n",
    "    #set up the model\n",
    "    poly = PolynomialFeatures(degree+1)\n",
    "    \n",
    "    X = poly.fit_transform(x)\n",
    "    \n",
    "    X_train, X_test, z_train, z_test = train_test_split(np.array(X), np.array(z), test_size=0.3, random_state = 2)\n",
    "    \n",
    "    #z_t = z_test.reshape(len(z_test),1)\n",
    "    polydegree[degree] = degree+1\n",
    "    \n",
    "    z_train_tilde_ols , z_test_tilde_ols, MSE_boot_deg = bootstrap_OLS(X_train, X_test, z_train, z_test, n_bs) \n",
    "    \n",
    "    MSE_boot[degree, 0] = np.mean(MSE_boot_deg[:,0])\n",
    "    MSE_boot[degree, 1] = np.mean(MSE_boot_deg[:,1])\n",
    "    \n",
    "    MSE_cv[degree, 0], MSE_cv[degree, 1] = cross_validation_OLS(k_folds,X,z)\n",
    "     \n",
    "\n",
    "#plot the results\n",
    "plt.plot(polydegree,MSE_boot[:,0],\"bo-\",label='Bootstrap Train')\n",
    "plt.plot(polydegree,MSE_boot[:,1],\"b*--\",label='Bootstrap Test')\n",
    "plt.plot(polydegree,MSE_cv[:,0],\"ro-\",label='Cross Validation Train')\n",
    "plt.plot(polydegree,MSE_cv[:,1],\"r*--\",label='Cross Validation Test')\n",
    "plt.xlabel('Complexity(polynomial degree)')\n",
    "plt.ylabel('MSE')\n",
    "plt.yscale(\"log\")\n",
    "plt.legend()\n",
    "plt.show()"
   ]
  },
  {
   "cell_type": "code",
   "execution_count": 80,
   "id": "c82bd38d",
   "metadata": {},
   "outputs": [
    {
     "name": "stdout",
     "output_type": "stream",
     "text": [
      "Lambda to obtain miminum MSE: 1128.84\n"
     ]
    },
    {
     "data": {
      "image/png": "[encoded data removed]",
      "text/plain": [
       "<Figure size 432x288 with 1 Axes>"
      ]
     },
     "metadata": {
      "needs_background": "light"
     },
     "output_type": "display_data"
    },
    {
     "data": {
      "image/png": "[encoded data removed]",
      "text/plain": [
       "<Figure size 432x288 with 1 Axes>"
      ]
     },
     "metadata": {
      "needs_background": "light"
     },
     "output_type": "display_data"
    }
   ],
   "source": [
    "#Let's apply the rigid regression\n",
    "#First the number of lambdas we will consider \n",
    "maxdegree= 4\n",
    "nlambdas = 20 \n",
    "lambd = np.logspace(1, 4, nlambdas)\n",
    "\n",
    "z = boston_df['MEDV']\n",
    "x = boston_df[features[:-1]] # original features\n",
    "\n",
    "x = drop_columns(array_corr,0.3)\n",
    "polydegree = np.zeros(maxdegree)\n",
    "MSE_Ridge = np.zeros((len(lambd),2))\n",
    "R2_Ridge = np.zeros((len(lambd),2))\n",
    "\n",
    "#Here 0.5 gives much better result compaire with 0.4 and 0.3 \n",
    "for degree in range(maxdegree):\n",
    "    \n",
    "    #set up the model\n",
    "    poly = PolynomialFeatures(degree+1)\n",
    "    \n",
    "    X = poly.fit_transform(x)\n",
    "    \n",
    "\n",
    "    polydegree[degree] = degree+1\n",
    "    X_train, X_test, z_train, z_test = train_test_split(np.array(X), np.array(z), test_size=0.3, random_state = 2)\n",
    "\n",
    "    for i in range(nlambdas):\n",
    "        z_tilde_train, z_tilde_test = Ridge(X_train,X_test,z_train,z_test,lambd[i])\n",
    "        MSE_Ridge[i,0] = mean_squared_error(z_train, z_tilde_train)\n",
    "        MSE_Ridge[i,1] = mean_squared_error(z_test, z_tilde_test)\n",
    "        R2_Ridge[i, 0] = r2_score(z_train, z_tilde_train)\n",
    "        R2_Ridge[i, 1] = r2_score(z_test, z_tilde_test)\n",
    "        \n",
    "plt.figure()\n",
    "plt.plot(np.log10(lambd), MSE_Ridge[:,0], 'r*-', label = 'MSE Ridge Train')\n",
    "plt.plot(np.log10(lambd), MSE_Ridge[:,1], 'b*-', label = 'MSE Ridge Test')\n",
    "plt.xlabel('$log_{10}(\\lambda)$')\n",
    "plt.ylabel('MSE')\n",
    "plt.legend()\n",
    "print('Lambda to obtain miminum MSE: {:.2f}'.format(lambd[np.argmin(MSE_Ridge[:,1])]))\n",
    "plt.show()\n",
    "\n",
    "plt.figure()\n",
    "plt.plot(np.log10(lambd), R2_Ridge[:,0], 'r*-', label = 'R2 Ridge Train')\n",
    "plt.plot(np.log10(lambd), R2_Ridge[:,1], 'b*-', label = 'R2 Ridge Test')\n",
    "plt.xlabel('$log_{10}(\\lambda)$')\n",
    "plt.ylabel('$R^2$')\n",
    "plt.legend()\n",
    "plt.show()"
   ]
  },
  {
   "cell_type": "code",
   "execution_count": 62,
   "id": "558b4a77",
   "metadata": {},
   "outputs": [],
   "source": [
    "#Bootstrap-Rigide\n",
    "maxdegree = 12\n",
    "lambd = 428.133240\n",
    "n_bootstrap = 100\n",
    "error_ols = np.zeros(maxdegree)\n",
    "bias_ols = np.zeros(maxdegree)\n",
    "variance_ols = np.zeros(maxdegree)\n",
    "\n",
    "error_ridge = np.zeros(maxdegree)\n",
    "bias_ridge = np.zeros(maxdegree)\n",
    "variance_ridge = np.zeros(maxdegree)\n",
    "\n",
    "polydegree = np.zeros(maxdegree)\n",
    "\n",
    "MSE_boot_ridge = np.zeros((maxdegree,2))\n",
    "\n",
    "for degree in range(maxdegree):\n",
    "    \n",
    "    poly = PolynomialFeatures(degree+1)\n",
    "    \n",
    "    X = poly.fit_transform(x)\n",
    "\n",
    "    \n",
    "    #train-test split\n",
    "    X_train, X_test, z_train, z_test = train_test_split(np.array(X), np.array(z), test_size=0.3, random_state = 2)\n",
    " \n",
    "    z_train_ridge, z_pred_ridge, mse_ridge = bootstrap_Ridge(X_train, X_test, z_train, z_test, n_bootstrap, lambd)\n",
    "    \n",
    "    #reshape test values\n",
    "    z_t = z_test.reshape(len(z_test),1)\n",
    "    polydegree[degree] = degree + 1\n",
    "    \n",
    "    #calculate error, bias, variance for Ridge regression\n",
    "    error_ridge[degree] = np.mean( np.mean((z_t - z_pred_ridge)**2, axis=1, keepdims=True) )\n",
    "    bias_ridge[degree] = np.mean( (z_t - np.mean(z_pred_ridge, axis=1, keepdims=True))**2 )\n",
    "    variance_ridge[degree] = np.mean( np.var(z_pred_ridge, axis=1, keepdims=True) )\n",
    "    MSE_boot_ridge[degree, 0] = np.mean(mse_ridge[:,0]) \n",
    "    MSE_boot_ridge[degree, 1] = np.mean(mse_ridge[:,1]) \n",
    "    \n",
    "\n",
    "plt.plot(polydegree, error_ridge, \"g\", label='Error Ridge')\n",
    "plt.plot(polydegree, bias_ridge, \"b\", label='Bias Ridge')\n",
    "plt.plot(polydegree, variance_ridge, \"r\", label='Variance Ridge')\n",
    "\n",
    "plt.xlabel('Complexity(polynomial degree)')\n",
    "\n",
    "#plt.yscale(\"log\")\n",
    "\n",
    "plt.legend()\n",
    "plt.show()"
   ]
  },
  {
   "cell_type": "code",
   "execution_count": 78,
   "id": "fac8cbf5",
   "metadata": {},
   "outputs": [
    {
     "data": {
      "text/plain": [
       "<matplotlib.legend.Legend at 0x7fa659246a30>"
      ]
     },
     "execution_count": 78,
     "metadata": {},
     "output_type": "execute_result"
    },
    {
     "data": {
      "image/png": "[encoded data removed]",
      "text/plain": [
       "<Figure size 432x288 with 1 Axes>"
      ]
     },
     "metadata": {
      "needs_background": "light"
     },
     "output_type": "display_data"
    }
   ],
   "source": [
    "#Cross-Validation\n",
    "maxdegree=12\n",
    "k_folds = range(5,13)\n",
    "MSE_cross_Ridge = np.zeros((len(k_folds),2))\n",
    "\n",
    "z = boston_df['MEDV']\n",
    "x = boston_df[features[:-1]] # original features\n",
    "\n",
    "lambd = 428.133240\n",
    "\n",
    "x = drop_columns(array_corr,0.5)\n",
    "\n",
    "\n",
    "for degree in range(maxdegree):\n",
    "    \n",
    "    poly = PolynomialFeatures(degree+1)\n",
    "    \n",
    "    X = poly.fit_transform(x)\n",
    "    for k in range(len(k_folds)):\n",
    "        MSE_cross_Ridge[k,0], MSE_cross_Ridge[k,1] = cross_validation_Ridge(k_folds[k],X,z,lambd)\n",
    "\n",
    "plt.plot(MSE_cross_Ridge[:,0], 'r*-', label = 'MSE Ridge Train')\n",
    "plt.plot(MSE_cross_Ridge[:,1], 'b*-', label = 'MSE Ridge Test')\n",
    "plt.xlabel('Complexity(polynomial degree')\n",
    "plt.ylabel('MSE')\n",
    "plt.legend()"
   ]
  },
  {
   "cell_type": "code",
   "execution_count": null,
   "id": "2f35d997",
   "metadata": {},
   "outputs": [],
   "source": []
  }
 ],
 "metadata": {
  "kernelspec": {
   "display_name": "Python 3",
   "language": "python",
   "name": "python3"
  },
  "language_info": {
   "codemirror_mode": {
    "name": "ipython",
    "version": 3
   },
   "file_extension": ".py",
   "mimetype": "text/x-python",
   "name": "python",
   "nbconvert_exporter": "python",
   "pygments_lexer": "ipython3",
   "version": "3.8.3"
  }
 },
 "nbformat": 4,
 "nbformat_minor": 5
}
