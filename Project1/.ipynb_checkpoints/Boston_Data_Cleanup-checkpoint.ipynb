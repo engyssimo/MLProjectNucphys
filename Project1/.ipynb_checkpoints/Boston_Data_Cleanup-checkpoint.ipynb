{
 "cells": [
  {
   "cell_type": "markdown",
   "metadata": {},
   "source": [
    "# Machine Learning Project"
   ]
  },
  {
   "cell_type": "markdown",
   "metadata": {},
   "source": [
    "### Packages"
   ]
  },
  {
   "cell_type": "code",
   "execution_count": 105,
   "metadata": {},
   "outputs": [],
   "source": [
    "import numpy as np\n",
    "import pandas as pd\n",
    "import seaborn as sns\n",
    "from mpl_toolkits.mplot3d import Axes3D\n",
    "import matplotlib.pyplot as plt\n",
    "from matplotlib import cm\n",
    "from matplotlib.ticker import LinearLocator, FormatStrFormatter\n",
    "from numpy.random import random, seed\n",
    "from sklearn.model_selection import train_test_split\n",
    "from sklearn import linear_model\n",
    "from sklearn.metrics import mean_squared_error, r2_score\n",
    "from IPython.display import display\n",
    "from scipy.stats import norm\n",
    "from sklearn.model_selection import KFold\n",
    "from sklearn.model_selection import cross_val_score\n",
    "from sklearn.preprocessing import PolynomialFeatures, StandardScaler\n",
    "from sklearn.datasets import load_boston\n",
    "from sklearn.linear_model import LinearRegression\n",
    "from sklearn.decomposition import PCA\n",
    "import itertools"
   ]
  },
  {
   "cell_type": "markdown",
   "metadata": {},
   "source": [
    "## Functions"
   ]
  },
  {
   "cell_type": "code",
   "execution_count": 118,
   "metadata": {},
   "outputs": [],
   "source": [
    "def drop_columns(boston_df, low_thresh, high_thresh=1, show=False):\n",
    "    ''' Function takes in a value of thresholding and return the filtered dataframe, excluding already the target columns'''\n",
    "    \n",
    "    #print the correlation matrix\n",
    "    corr_matrix = boston_df.corr().round(2)\n",
    "    \n",
    "    #show correlation matrix\n",
    "    if show:\n",
    "        sns.heatmap(data=corr_matrix, annot=True)\n",
    "        \n",
    "    array_corr = corr_matrix[\"MEDV\"].abs()\n",
    "    indices = np.arange(array_corr.shape[0])\n",
    "    col_indi = indices[(array_corr < low_thresh) | (array_corr >= high_thresh)]\n",
    "    filtered_boston = boston_df.drop(boston_df.columns[col_indi], axis=1)  \n",
    "    print(filtered_boston.columns,filtered_boston.shape)\n",
    "    return filtered_boston\n",
    "\n",
    "\n",
    "def drop_columns(boston_df, low_thresh, high_thresh=1, show=False):\n",
    "    ''' Function takes in a value of thresholding and return the filtered dataframe, excluding already the target columns'''\n",
    "    \n",
    "    \n",
    "    #print the correlation matrix\n",
    "    corr_matrix = boston_df.corr().round(2)\n",
    "    \n",
    "    #show correlation matrix\n",
    "    if show:\n",
    "        sns.heatmap(data=corr_matrix, annot=True)\n",
    "        \n",
    "    array_corr = corr_matrix[\"MEDV\"].abs()\n",
    "    indices = np.arange(array_corr.shape[0])\n",
    "    \n",
    "    col_indi = indices[(array_corr < low_thresh) | (array_corr >= high_thresh)]\n",
    "    \n",
    "    display(corr_matrix)\n",
    "    \n",
    "    #eliminating colinearity by selecting only one of more highly correlated features\n",
    "    \n",
    "    #colinearity threshold\n",
    "    colin_thresh = 0.75\n",
    "    \n",
    "    colin_vars = []\n",
    "    \n",
    "    for ind,col in itertools.product(corr_matrix.columns,corr_matrix.index):\n",
    "        if (abs(corr_matrix[ind][col])>colin_thresh and ind !=col):\n",
    "            colin_vars.append((ind,col))\n",
    "            \n",
    "    colin_used = []\n",
    "    for (ind1,ind2) in colin_vars:\n",
    "        if not (ind1 in colin_used or ind2 in colin_used):\n",
    "            colin_used.append(ind1)\n",
    "    print(colin_used)\n",
    "    \n",
    "    filtered_boston = boston_df.drop(boston_df.columns[col_indi], axis=1).drop(colin_used, axis=1)\n",
    "    \n",
    "    print(filtered_boston.columns,filtered_boston.shape)\n",
    "    \n",
    "    return filtered_boston\n",
    "\n",
    "\n",
    "\n",
    "#Important to split the data set before shuffling \n",
    "def bootstrap_OLS(X_train, X_test, z_train, z_test, n_bootstrap): \n",
    "    MSE = np.zeros((n_bootstrap,2))\n",
    "    n = len(z_train)\n",
    "    \n",
    "    z_tilde_train_ols_aux = np.empty(n)\n",
    "    z_tilde_test_ols_aux = np.empty(n)\n",
    "    \n",
    "    for i in range(n_bootstrap):\n",
    "        sequence = np.random.randint(0,n,n)\n",
    "        X1_train = X_train[sequence]\n",
    "               \n",
    "        z1_train = z_train[sequence]  \n",
    "        \n",
    "        \n",
    "        z_tilde_train_ols_aux , z_tilde_test_ols_aux = OLS(X1_train, X_test, z1_train)\n",
    "        \n",
    "        MSE[i,0] = mean_squared_error(z1_train, z_tilde_train_ols_aux) \n",
    "        MSE[i,1] = mean_squared_error(z_test,z_tilde_test_ols_aux)  \n",
    "        \n",
    "    return MSE\n",
    "\n",
    "\n",
    "\n",
    "def OLS(X_train, X_test, z_train):\n",
    "    '''\n",
    "    Fit the model with OLS regression using the train set and \n",
    "    returns the predicted values for both the train and the test set.\n",
    "    '''\n",
    "    \n",
    "    scaler = StandardScaler()\n",
    "    scaler.fit(X_train)\n",
    "    X_train= scaler.transform(X_train)\n",
    "    X_test = scaler.transform(X_test)\n",
    "    \n",
    "    # # Apply the transform to both the training set and the test set\n",
    "\n",
    "    pca.fit(X_train)\n",
    "    X_train_pca = pca.transform(X_train)\n",
    "    X_test_pca = pca.transform(X_test)\n",
    "    \n",
    "    z_train =np.asarray(z_train)                  # Series to array\n",
    "    z_train = z_train.reshape(len(z_train),1)     # Reshape because standard scaler expects 2D\n",
    "\n",
    "    target_scaler = StandardScaler()\n",
    "    target_scaler.fit(z_train)\n",
    "    z_train= target_scaler.transform(z_train)\n",
    "\n",
    "    #extract regression coefficients\n",
    "    beta_ols = np.linalg.pinv(X_train.T@X_train)@(X_train.T)@z_train\n",
    "    \n",
    "    #predict train and test values\n",
    "    z_train_tilde_ols = X_train@beta_ols\n",
    "    z_test_tilde_ols = X_test@beta_ols\n",
    "    \n",
    "    # Do the inverse transformation to compare the targets and find the MSE\n",
    "        \n",
    "    z_train = target_scaler.inverse_transform(z_train)\n",
    "    z_train_tilde_ols = target_scaler.inverse_transform(z_train_tilde_ols)\n",
    "    z_test_tilde_ols = target_scaler.inverse_transform(z_test_tilde_ols)\n",
    "    \n",
    "    return z_train_tilde_ols, z_test_tilde_ols\n",
    "\n",
    "\n",
    "\n",
    "def Ridge(X_train,X_test,z_train,z_test,lambd):\n",
    "\n",
    "    # Since it relates to remove intercepts, better to use built in function in SKL\n",
    "    RegRidge = linear_model.Ridge(lambd,fit_intercept= True)\n",
    "    \n",
    "    # Scaling\n",
    "    \n",
    "    scaler = StandardScaler()\n",
    "    scaler.fit(X_train)\n",
    "    X_train= scaler.transform(X_train)\n",
    "    X_test = scaler.transform(X_test)\n",
    "    \n",
    "    # # Apply the transform to both the training set and the test set\n",
    "\n",
    "    pca.fit(X_train)\n",
    "    X_train_pca = pca.transform(X_train)\n",
    "    X_test_pca = pca.transform(X_test)\n",
    "    \n",
    "    z_train =np.asarray(z_train)                  # Series to array\n",
    "    z_train = z_train.reshape(len(z_train),1)     # Reshape because standard scaler expects 2D\n",
    "\n",
    "    target_scaler = StandardScaler()\n",
    "    target_scaler.fit(z_train)\n",
    "    z_train= target_scaler.transform(z_train)\n",
    "    \n",
    "    #fit the model to the training data\n",
    "    RegRidge.fit(X_train,z_train)\n",
    "    \n",
    "    # and then make the prediction\n",
    "    z_tilde_train = RegRidge.predict(X_train)\n",
    "    z_tilde_test = RegRidge.predict(X_test)\n",
    "    \n",
    "    # Do the inverse transformation to compare the targets and find the MSE\n",
    "        \n",
    "    z_train = target_scaler.inverse_transform(z_train)              # Not necessary because we dont compute MSE here\n",
    "    z_tilde_train = target_scaler.inverse_transform(z_tilde_train)\n",
    "    z_tilde_test = target_scaler.inverse_transform(z_tilde_test)\n",
    "    \n",
    "    return z_tilde_train, z_tilde_test\n",
    "\n",
    "def bootstrap_Ridge(X_train, X_test, z_train, z_test, n_bootstrap, lambd): \n",
    "    n = len(z_train)\n",
    "    #prepare arrays for output\n",
    "    MSE = np.zeros((n_bootstrap,2))\n",
    "#     z_tilde_train = np.zeros((len(z_train), n_bootstrap))\n",
    "#     z_tilde_test = np.zeros((len(z_test), n_bootstrap))\n",
    "    \n",
    "    z_tilde_train_aux = np.empty(n)\n",
    "    z_tilde_test_aux = np.empty(n)\n",
    "    \n",
    "    \n",
    "    \n",
    "    #cycle on resamplings\n",
    "    for i in range(n_bootstrap):\n",
    "        \n",
    "        #extract sequence for resampling\n",
    "        sequence = np.random.randint(0,n,n)\n",
    "        \n",
    "        #resampled arrays\n",
    "        X1_train = X_train[sequence]\n",
    "        z1_train = z_train[sequence]\n",
    "        \n",
    "        #fit and predict\n",
    "        z_tilde_train_aux , z_tilde_test_aux = Ridge(X1_train, X_test, z1_train, z_test, lambd)\n",
    "        \n",
    "        #calculate mse on train and test\n",
    "        MSE[i,0] = mean_squared_error(z1_train,z_tilde_train_aux)\n",
    "        MSE[i,1] = mean_squared_error(z_test,z_tilde_test_aux)\n",
    "    \n",
    "      #  MSE_train_mean = np.mean(MSE[:,0])\n",
    "      #  MSE_test_mean = np.mean(MSE[:,1])\n",
    "        \n",
    "    return z_tilde_train_aux, z_tilde_test_aux, MSE\n",
    "\n",
    "def cross_validation_Ridge(k_folds, X, z, lambd):\n",
    "    MSE_train = []\n",
    "    MSE_test = []\n",
    "    kfold = KFold(n_splits = k_folds)\n",
    "\n",
    "    for train_inds, test_inds in kfold.split(X):\n",
    "        \n",
    "        X_train = X[train_inds]\n",
    "        z_train = z[train_inds]\n",
    "\n",
    "        X_test = X[test_inds]\n",
    "        z_test = z[test_inds]\n",
    "\n",
    "        z_train_tilde_Ridge, z_test_tilde_Ridge = Ridge( X_train, X_test, z_train, z_test, lambd)\n",
    "        \n",
    "        MSE_train.append(mean_squared_error(z_train, z_train_tilde_Ridge))\n",
    "        MSE_test.append(mean_squared_error(z_test, z_test_tilde_Ridge))\n",
    "\n",
    "    MSE_train_mean = np.mean(MSE_train)\n",
    "    MSE_test_mean = np.mean(MSE_test)\n",
    "    \n",
    "    return MSE_train_mean, MSE_test_mean\n",
    "\n",
    "def cross_validation_OLS(k_folds, X, z):\n",
    "    MSE_train = []\n",
    "    MSE_test = []\n",
    "    kfold = KFold(n_splits = k_folds)\n",
    "    for train_inds, test_inds in kfold.split(X):\n",
    "        X_train = X[train_inds]\n",
    "        z_train = z[train_inds]\n",
    "        \n",
    "        X_test = X[test_inds]\n",
    "        z_test = z[test_inds]\n",
    "        \n",
    "        z_train_tilde_ols , z_test_tilde_ols = OLS(X_train, X_test, z_train)\n",
    "        \n",
    "        MSE_train.append(mean_squared_error(z_train, z_train_tilde_ols))\n",
    "        MSE_test.append(mean_squared_error(z_test, z_test_tilde_ols))\n",
    "        \n",
    "    MSE_train_mean = np.mean(MSE_train)\n",
    "    MSE_test_mean = np.mean(MSE_test)\n",
    "    return MSE_train_mean, MSE_test_mean\n",
    "    "
   ]
  },
  {
   "cell_type": "markdown",
   "metadata": {},
   "source": [
    "## Data "
   ]
  },
  {
   "cell_type": "code",
   "execution_count": 121,
   "metadata": {},
   "outputs": [
    {
     "name": "stdout",
     "output_type": "stream",
     "text": [
      "['CRIM', 'ZN', 'INDUS', 'CHAS', 'NOX', 'RM', 'AGE', 'DIS', 'RAD', 'TAX', 'PTRATIO', 'B', 'LSTAT']\n",
      "Size of data set: (506, 14) \n"
     ]
    }
   ],
   "source": [
    "boston_data = load_boston()\n",
    "boston_df = pd.DataFrame(boston_data.data, columns=boston_data.feature_names)\n",
    "boston_df['MEDV'] = boston_data.target\n",
    "features = boston_df.columns.tolist() \n",
    "print(features[:-1])\n",
    "print(\"Size of data set: {} \".format(boston_df.shape))"
   ]
  },
  {
   "cell_type": "code",
   "execution_count": 122,
   "metadata": {},
   "outputs": [],
   "source": [
    "#x = drop_columns(boston_df,0.3)\n",
    "x = boston_df.drop(\"MEDV\",axis=1)\n",
    "z = boston_df['MEDV']\n",
    "pca = PCA(n_components=0.95)\n",
    "\n"
   ]
  },
  {
   "cell_type": "markdown",
   "metadata": {},
   "source": [
    "## 1. OLS using no resampling method"
   ]
  },
  {
   "cell_type": "code",
   "execution_count": 124,
   "metadata": {},
   "outputs": [
    {
     "name": "stdout",
     "output_type": "stream",
     "text": [
      "Degree 0\n",
      "MSE train  19.068341850927226\n",
      "MSE test 30.6970377040886\n",
      "9\n",
      "Degree 1\n",
      "MSE train  5.329363416561527\n",
      "MSE test 18.128030106996736\n",
      "12\n",
      "Degree 2\n",
      "MSE train  1.0014702927421898e-12\n",
      "MSE test 16499.912345788965\n",
      "16\n",
      "Degree 3\n",
      "MSE train  1.2936427407350792e-08\n",
      "MSE test 1434.1053782093227\n",
      "18\n"
     ]
    },
    {
     "data": {
      "image/png": "[encoded data removed]",
      "text/plain": [
       "<Figure size 432x288 with 1 Axes>"
      ]
     },
     "metadata": {
      "needs_background": "light"
     },
     "output_type": "display_data"
    },
    {
     "name": "stdout",
     "output_type": "stream",
     "text": [
      "Minimum MSE reached : 18.1 \n",
      " for degree : 2.0\n"
     ]
    }
   ],
   "source": [
    "#degree of the polynomial model\n",
    "maxdegree = 4\n",
    "\n",
    "#target feature\n",
    "\n",
    "\n",
    "polydegree = np.zeros(maxdegree)\n",
    "MSE_OLS = np.zeros((maxdegree,2))\n",
    "\n",
    "\n",
    "\n",
    "\n",
    "for degree in range(maxdegree):\n",
    "    \n",
    "    #set up the model\n",
    "    poly = PolynomialFeatures(degree+1)\n",
    "    \n",
    "    X = poly.fit_transform(x)\n",
    "    \n",
    "    \n",
    "    X_train, X_test, z_train, z_test = train_test_split(X, z, test_size=0.3, random_state = 5)\n",
    "    \n",
    "    polydegree[degree] = degree+1\n",
    "    \n",
    "    z_train_tilde_ols , z_test_tilde_ols = OLS(X_train, X_test, z_train) \n",
    "    \n",
    "    MSE_OLS[degree, 0] = mean_squared_error(z_train,z_train_tilde_ols)\n",
    "    MSE_OLS[degree, 1] = mean_squared_error(z_test,z_test_tilde_ols) \n",
    "    print(\"Degree\",degree)\n",
    "    print(\"MSE train \",MSE_OLS[degree, 0])\n",
    "    print(\"MSE test\", MSE_OLS[degree, 1])\n",
    "    print(pca.n_components_)\n",
    "#plot the results\n",
    "plt.figure()\n",
    "plt.plot(polydegree,MSE_OLS[:,0],label='MSE_Train')\n",
    "plt.plot(polydegree,MSE_OLS[:,1],label='MSE_Test')\n",
    "plt.xlabel('Complexity(polynomial degree)')\n",
    "plt.ylabel('MSE')\n",
    "#plt.ylim(0,1000)\n",
    "plt.yscale(\"log\")\n",
    "plt.legend()\n",
    "plt.show()\n",
    "\n",
    "print(\"Minimum MSE reached : {:.1f} \\n for degree : {}\".format(np.min(MSE_OLS[:,1]),polydegree[np.argmin(MSE_OLS[:,1])]))"
   ]
  },
  {
   "cell_type": "markdown",
   "metadata": {},
   "source": [
    "## 2. OLS with resampling methods"
   ]
  },
  {
   "cell_type": "code",
   "execution_count": 125,
   "metadata": {
    "scrolled": true
   },
   "outputs": [
    {
     "name": "stdout",
     "output_type": "stream",
     "text": [
      "For degree  1\n",
      "MSE_boot_train  20.81229853901232\n",
      "MSE_boot_test  24.440968625913218\n",
      "MSE_cv_train  21.336369047117806\n",
      "MSE_cv_test  32.09065633102584\n",
      "For degree  2\n",
      "MSE_boot_train  2.8133336878528814\n",
      "MSE_boot_test  2519.326425302063\n",
      "MSE_cv_train  5.4641934286386595\n",
      "MSE_cv_test  109.30158807790104\n",
      "For degree  3\n",
      "MSE_boot_train  1.561260106151939e-16\n",
      "MSE_boot_test  1086.1693172944397\n",
      "MSE_cv_train  0.09202247008509032\n",
      "MSE_cv_test  14073564.49840305\n"
     ]
    },
    {
     "ename": "KeyboardInterrupt",
     "evalue": "",
     "output_type": "error",
     "traceback": [
      "\u001b[0;31m---------------------------------------------------------------------------\u001b[0m",
      "\u001b[0;31mKeyboardInterrupt\u001b[0m                         Traceback (most recent call last)",
      "\u001b[0;32m<ipython-input-125-6d5a3f26781b>\u001b[0m in \u001b[0;36m<module>\u001b[0;34m\u001b[0m\n\u001b[1;32m     23\u001b[0m     \u001b[0mpolydegree\u001b[0m\u001b[0;34m[\u001b[0m\u001b[0mdegree\u001b[0m\u001b[0;34m]\u001b[0m \u001b[0;34m=\u001b[0m \u001b[0mdegree\u001b[0m\u001b[0;34m+\u001b[0m\u001b[0;36m1\u001b[0m\u001b[0;34m\u001b[0m\u001b[0;34m\u001b[0m\u001b[0m\n\u001b[1;32m     24\u001b[0m \u001b[0;34m\u001b[0m\u001b[0m\n\u001b[0;32m---> 25\u001b[0;31m     \u001b[0mMSE_boot_deg\u001b[0m \u001b[0;34m=\u001b[0m \u001b[0mbootstrap_OLS\u001b[0m\u001b[0;34m(\u001b[0m\u001b[0mX_train\u001b[0m\u001b[0;34m,\u001b[0m \u001b[0mX_test\u001b[0m\u001b[0;34m,\u001b[0m \u001b[0mz_train\u001b[0m\u001b[0;34m,\u001b[0m \u001b[0mz_test\u001b[0m\u001b[0;34m,\u001b[0m \u001b[0mn_bs\u001b[0m\u001b[0;34m)\u001b[0m\u001b[0;34m\u001b[0m\u001b[0;34m\u001b[0m\u001b[0m\n\u001b[0m\u001b[1;32m     26\u001b[0m \u001b[0;34m\u001b[0m\u001b[0m\n\u001b[1;32m     27\u001b[0m     \u001b[0mMSE_boot\u001b[0m\u001b[0;34m[\u001b[0m\u001b[0mdegree\u001b[0m\u001b[0;34m,\u001b[0m \u001b[0;36m0\u001b[0m\u001b[0;34m]\u001b[0m \u001b[0;34m=\u001b[0m \u001b[0mnp\u001b[0m\u001b[0;34m.\u001b[0m\u001b[0mmean\u001b[0m\u001b[0;34m(\u001b[0m\u001b[0mMSE_boot_deg\u001b[0m\u001b[0;34m[\u001b[0m\u001b[0;34m:\u001b[0m\u001b[0;34m,\u001b[0m\u001b[0;36m0\u001b[0m\u001b[0;34m]\u001b[0m\u001b[0;34m)\u001b[0m\u001b[0;34m\u001b[0m\u001b[0;34m\u001b[0m\u001b[0m\n",
      "\u001b[0;32m<ipython-input-118-724b46366a70>\u001b[0m in \u001b[0;36mbootstrap_OLS\u001b[0;34m(X_train, X_test, z_train, z_test, n_bootstrap)\u001b[0m\n\u001b[1;32m     75\u001b[0m \u001b[0;34m\u001b[0m\u001b[0m\n\u001b[1;32m     76\u001b[0m \u001b[0;34m\u001b[0m\u001b[0m\n\u001b[0;32m---> 77\u001b[0;31m         \u001b[0mz_tilde_train_ols_aux\u001b[0m \u001b[0;34m,\u001b[0m \u001b[0mz_tilde_test_ols_aux\u001b[0m \u001b[0;34m=\u001b[0m \u001b[0mOLS\u001b[0m\u001b[0;34m(\u001b[0m\u001b[0mX1_train\u001b[0m\u001b[0;34m,\u001b[0m \u001b[0mX_test\u001b[0m\u001b[0;34m,\u001b[0m \u001b[0mz1_train\u001b[0m\u001b[0;34m)\u001b[0m\u001b[0;34m\u001b[0m\u001b[0;34m\u001b[0m\u001b[0m\n\u001b[0m\u001b[1;32m     78\u001b[0m \u001b[0;34m\u001b[0m\u001b[0m\n\u001b[1;32m     79\u001b[0m         \u001b[0mMSE\u001b[0m\u001b[0;34m[\u001b[0m\u001b[0mi\u001b[0m\u001b[0;34m,\u001b[0m\u001b[0;36m0\u001b[0m\u001b[0;34m]\u001b[0m \u001b[0;34m=\u001b[0m \u001b[0mmean_squared_error\u001b[0m\u001b[0;34m(\u001b[0m\u001b[0mz1_train\u001b[0m\u001b[0;34m,\u001b[0m \u001b[0mz_tilde_train_ols_aux\u001b[0m\u001b[0;34m)\u001b[0m\u001b[0;34m\u001b[0m\u001b[0;34m\u001b[0m\u001b[0m\n",
      "\u001b[0;32m<ipython-input-118-724b46366a70>\u001b[0m in \u001b[0;36mOLS\u001b[0;34m(X_train, X_test, z_train)\u001b[0m\n\u001b[1;32m    109\u001b[0m \u001b[0;34m\u001b[0m\u001b[0m\n\u001b[1;32m    110\u001b[0m     \u001b[0;31m#extract regression coefficients\u001b[0m\u001b[0;34m\u001b[0m\u001b[0;34m\u001b[0m\u001b[0;34m\u001b[0m\u001b[0m\n\u001b[0;32m--> 111\u001b[0;31m     \u001b[0mbeta_ols\u001b[0m \u001b[0;34m=\u001b[0m \u001b[0mnp\u001b[0m\u001b[0;34m.\u001b[0m\u001b[0mlinalg\u001b[0m\u001b[0;34m.\u001b[0m\u001b[0mpinv\u001b[0m\u001b[0;34m(\u001b[0m\u001b[0mX_train\u001b[0m\u001b[0;34m.\u001b[0m\u001b[0mT\u001b[0m\u001b[0;34m@\u001b[0m\u001b[0mX_train\u001b[0m\u001b[0;34m)\u001b[0m\u001b[0;34m@\u001b[0m\u001b[0;34m(\u001b[0m\u001b[0mX_train\u001b[0m\u001b[0;34m.\u001b[0m\u001b[0mT\u001b[0m\u001b[0;34m)\u001b[0m\u001b[0;34m@\u001b[0m\u001b[0mz_train\u001b[0m\u001b[0;34m\u001b[0m\u001b[0;34m\u001b[0m\u001b[0m\n\u001b[0m\u001b[1;32m    112\u001b[0m \u001b[0;34m\u001b[0m\u001b[0m\n\u001b[1;32m    113\u001b[0m     \u001b[0;31m#predict train and test values\u001b[0m\u001b[0;34m\u001b[0m\u001b[0;34m\u001b[0m\u001b[0;34m\u001b[0m\u001b[0m\n",
      "\u001b[0;32m<__array_function__ internals>\u001b[0m in \u001b[0;36mpinv\u001b[0;34m(*args, **kwargs)\u001b[0m\n",
      "\u001b[0;32m~/.local/lib/python3.6/site-packages/numpy/linalg/linalg.py\u001b[0m in \u001b[0;36mpinv\u001b[0;34m(a, rcond, hermitian)\u001b[0m\n\u001b[1;32m   2001\u001b[0m         \u001b[0;32mreturn\u001b[0m \u001b[0mwrap\u001b[0m\u001b[0;34m(\u001b[0m\u001b[0mres\u001b[0m\u001b[0;34m)\u001b[0m\u001b[0;34m\u001b[0m\u001b[0;34m\u001b[0m\u001b[0m\n\u001b[1;32m   2002\u001b[0m     \u001b[0ma\u001b[0m \u001b[0;34m=\u001b[0m \u001b[0ma\u001b[0m\u001b[0;34m.\u001b[0m\u001b[0mconjugate\u001b[0m\u001b[0;34m(\u001b[0m\u001b[0;34m)\u001b[0m\u001b[0;34m\u001b[0m\u001b[0;34m\u001b[0m\u001b[0m\n\u001b[0;32m-> 2003\u001b[0;31m     \u001b[0mu\u001b[0m\u001b[0;34m,\u001b[0m \u001b[0ms\u001b[0m\u001b[0;34m,\u001b[0m \u001b[0mvt\u001b[0m \u001b[0;34m=\u001b[0m \u001b[0msvd\u001b[0m\u001b[0;34m(\u001b[0m\u001b[0ma\u001b[0m\u001b[0;34m,\u001b[0m \u001b[0mfull_matrices\u001b[0m\u001b[0;34m=\u001b[0m\u001b[0;32mFalse\u001b[0m\u001b[0;34m,\u001b[0m \u001b[0mhermitian\u001b[0m\u001b[0;34m=\u001b[0m\u001b[0mhermitian\u001b[0m\u001b[0;34m)\u001b[0m\u001b[0;34m\u001b[0m\u001b[0;34m\u001b[0m\u001b[0m\n\u001b[0m\u001b[1;32m   2004\u001b[0m \u001b[0;34m\u001b[0m\u001b[0m\n\u001b[1;32m   2005\u001b[0m     \u001b[0;31m# discard small singular values\u001b[0m\u001b[0;34m\u001b[0m\u001b[0;34m\u001b[0m\u001b[0;34m\u001b[0m\u001b[0m\n",
      "\u001b[0;32m<__array_function__ internals>\u001b[0m in \u001b[0;36msvd\u001b[0;34m(*args, **kwargs)\u001b[0m\n",
      "\u001b[0;32m~/.local/lib/python3.6/site-packages/numpy/linalg/linalg.py\u001b[0m in \u001b[0;36msvd\u001b[0;34m(a, full_matrices, compute_uv, hermitian)\u001b[0m\n\u001b[1;32m   1659\u001b[0m \u001b[0;34m\u001b[0m\u001b[0m\n\u001b[1;32m   1660\u001b[0m         \u001b[0msignature\u001b[0m \u001b[0;34m=\u001b[0m \u001b[0;34m'D->DdD'\u001b[0m \u001b[0;32mif\u001b[0m \u001b[0misComplexType\u001b[0m\u001b[0;34m(\u001b[0m\u001b[0mt\u001b[0m\u001b[0;34m)\u001b[0m \u001b[0;32melse\u001b[0m \u001b[0;34m'd->ddd'\u001b[0m\u001b[0;34m\u001b[0m\u001b[0;34m\u001b[0m\u001b[0m\n\u001b[0;32m-> 1661\u001b[0;31m         \u001b[0mu\u001b[0m\u001b[0;34m,\u001b[0m \u001b[0ms\u001b[0m\u001b[0;34m,\u001b[0m \u001b[0mvh\u001b[0m \u001b[0;34m=\u001b[0m \u001b[0mgufunc\u001b[0m\u001b[0;34m(\u001b[0m\u001b[0ma\u001b[0m\u001b[0;34m,\u001b[0m \u001b[0msignature\u001b[0m\u001b[0;34m=\u001b[0m\u001b[0msignature\u001b[0m\u001b[0;34m,\u001b[0m \u001b[0mextobj\u001b[0m\u001b[0;34m=\u001b[0m\u001b[0mextobj\u001b[0m\u001b[0;34m)\u001b[0m\u001b[0;34m\u001b[0m\u001b[0;34m\u001b[0m\u001b[0m\n\u001b[0m\u001b[1;32m   1662\u001b[0m         \u001b[0mu\u001b[0m \u001b[0;34m=\u001b[0m \u001b[0mu\u001b[0m\u001b[0;34m.\u001b[0m\u001b[0mastype\u001b[0m\u001b[0;34m(\u001b[0m\u001b[0mresult_t\u001b[0m\u001b[0;34m,\u001b[0m \u001b[0mcopy\u001b[0m\u001b[0;34m=\u001b[0m\u001b[0;32mFalse\u001b[0m\u001b[0;34m)\u001b[0m\u001b[0;34m\u001b[0m\u001b[0;34m\u001b[0m\u001b[0m\n\u001b[1;32m   1663\u001b[0m         \u001b[0ms\u001b[0m \u001b[0;34m=\u001b[0m \u001b[0ms\u001b[0m\u001b[0;34m.\u001b[0m\u001b[0mastype\u001b[0m\u001b[0;34m(\u001b[0m\u001b[0m_realType\u001b[0m\u001b[0;34m(\u001b[0m\u001b[0mresult_t\u001b[0m\u001b[0;34m)\u001b[0m\u001b[0;34m,\u001b[0m \u001b[0mcopy\u001b[0m\u001b[0;34m=\u001b[0m\u001b[0;32mFalse\u001b[0m\u001b[0;34m)\u001b[0m\u001b[0;34m\u001b[0m\u001b[0;34m\u001b[0m\u001b[0m\n",
      "\u001b[0;31mKeyboardInterrupt\u001b[0m: "
     ]
    }
   ],
   "source": [
    "#degree of the polynomial model\n",
    "maxdegree = 5\n",
    "\n",
    "n_bs = 100\n",
    "\n",
    "k_folds = 8\n",
    "\n",
    "\n",
    "polydegree = np.zeros(maxdegree)\n",
    "MSE_boot = np.zeros((maxdegree,2))\n",
    "MSE_cv = np.zeros((maxdegree,2))\n",
    "\n",
    "for degree in range(maxdegree):\n",
    "    \n",
    "    #set up the model\n",
    "    poly = PolynomialFeatures(degree+1)\n",
    "    \n",
    "    X = poly.fit_transform(x)\n",
    "    \n",
    "    \n",
    "    X_train, X_test, z_train, z_test = train_test_split(np.array(X), np.array(z), test_size=0.3, random_state = 2)\n",
    "    \n",
    "    polydegree[degree] = degree+1\n",
    "    \n",
    "    MSE_boot_deg = bootstrap_OLS(X_train, X_test, z_train, z_test, n_bs)\n",
    "    \n",
    "    MSE_boot[degree, 0] = np.mean(MSE_boot_deg[:,0])\n",
    "    MSE_boot[degree, 1] = np.mean(MSE_boot_deg[:,1])\n",
    "    \n",
    "    MSE_cv[degree, 0], MSE_cv[degree, 1] = cross_validation_OLS(k_folds,X,z)\n",
    "     \n",
    "    print(\"For degree \",degree+1)\n",
    "    print(\"MSE_boot_train \",MSE_boot[degree, 0])\n",
    "    print(\"MSE_boot_test \",MSE_boot[degree, 1])\n",
    "    print(\"MSE_cv_train \",MSE_cv[degree, 0])\n",
    "    print(\"MSE_cv_test \",MSE_cv[degree, 1])\n",
    "        \n",
    "        \n",
    "#plot the results\n",
    "plt.plot(polydegree,MSE_boot[:,0],\"bo-\",label='Bootstrap Train')\n",
    "plt.plot(polydegree,MSE_boot[:,1],\"b*--\",label='Bootstrap Test')\n",
    "# plt.plot(polydegree,MSE_cv[:,0],\"ro-\",label='Cross Validation Train')\n",
    "# plt.plot(polydegree,MSE_cv[:,1],\"r*--\",label='Cross Validation Test')\n",
    "plt.xlabel('Complexity(polynomial degree)')\n",
    "plt.ylabel('MSE')\n",
    "plt.yscale(\"log\")\n",
    "plt.legend()\n",
    "plt.show()\n",
    "\n",
    "print(\"Bootstrap: \\n Minimum MSE reached : {:.1f} \\n for degree : {}\\n\".format(np.min(MSE_boot[:,1]),polydegree[np.argmin(MSE_boot[:,1])]))\n",
    "\n",
    "\n",
    "print(\"CV: \\n Minimum MSE reached : {:.1f} \\n for degree : {}\\n\".format(np.min(MSE_cv[:,1]),polydegree[np.argmin(MSE_cv[:,1])]))\n"
   ]
  },
  {
   "cell_type": "code",
   "execution_count": 100,
   "metadata": {},
   "outputs": [
    {
     "data": {
      "image/png": "[encoded data removed]",
      "text/plain": [
       "<Figure size 432x288 with 1 Axes>"
      ]
     },
     "metadata": {
      "needs_background": "light"
     },
     "output_type": "display_data"
    }
   ],
   "source": [
    "plt.plot(polydegree,MSE_cv[:,0],\"ro-\",label='Cross Validation Train')\n",
    "plt.plot(polydegree,MSE_cv[:,1],\"r*--\",label='Cross Validation Test')\n",
    "plt.xlabel('Complexity(polynomial degree)')\n",
    "plt.ylabel('MSE')\n",
    "plt.yscale(\"log\")\n",
    "plt.legend()\n",
    "plt.show()"
   ]
  },
  {
   "cell_type": "markdown",
   "metadata": {},
   "source": [
    "## 3. Ridge regression without resampling methods"
   ]
  },
  {
   "cell_type": "code",
   "execution_count": 119,
   "metadata": {},
   "outputs": [
    {
     "name": "stdout",
     "output_type": "stream",
     "text": [
      "Minimum MSE reached : 12.5 \n",
      " for lambda : 33.9322177189533\n",
      "\n"
     ]
    },
    {
     "data": {
      "image/png": "[encoded data removed]",
      "text/plain": [
       "<Figure size 432x288 with 1 Axes>"
      ]
     },
     "metadata": {
      "needs_background": "light"
     },
     "output_type": "display_data"
    },
    {
     "data": {
      "image/png": "[encoded data removed]",
      "text/plain": [
       "<Figure size 432x288 with 1 Axes>"
      ]
     },
     "metadata": {
      "needs_background": "light"
     },
     "output_type": "display_data"
    }
   ],
   "source": [
    "#Let's apply the Ridge regression\n",
    "\n",
    "sel_degree = 2\n",
    "nlambdas = 50 \n",
    "lambd = np.logspace(-5,5, nlambdas)\n",
    "\n",
    "MSE_Ridge = np.zeros((len(lambd),2))\n",
    "R2_Ridge = np.zeros((len(lambd),2))\n",
    "\n",
    "#Here 0.5 gives much better result compaire with 0.4 and 0.3 \n",
    "\n",
    "#set up the model\n",
    "poly = PolynomialFeatures(sel_degree+1)\n",
    "\n",
    "X = poly.fit_transform(x)\n",
    "\n",
    "X_train, X_test, z_train, z_test = train_test_split(np.array(X), np.array(z), test_size=0.3, random_state = 2)\n",
    "\n",
    "for i in range(nlambdas):\n",
    "    z_tilde_train, z_tilde_test = Ridge(X_train,X_test,z_train,z_test,lambd[i])\n",
    "    MSE_Ridge[i,0] = mean_squared_error(z_train, z_tilde_train)\n",
    "    MSE_Ridge[i,1] = mean_squared_error(z_test, z_tilde_test)\n",
    "    R2_Ridge[i, 0] = r2_score(z_train, z_tilde_train)\n",
    "    R2_Ridge[i, 1] = r2_score(z_test, z_tilde_test)\n",
    "    #print(MSE_Ridge[i,1])\n",
    "        \n",
    "plt.figure()\n",
    "plt.plot(np.log10(lambd), MSE_Ridge[:,0], 'r*-', label = 'MSE Ridge Train')\n",
    "plt.plot(np.log10(lambd), MSE_Ridge[:,1], 'b*-', label = 'MSE Ridge Test')\n",
    "plt.xlabel('$log_{10}(\\lambda)$')\n",
    "plt.ylabel('MSE')\n",
    "plt.legend()\n",
    "#print('Lambda to obtain miminum MSE: {:.2f}'.format(lambd[np.argmin(MSE_Ridge[:,1])]))\n",
    "\n",
    "\n",
    "print(\"Minimum MSE reached : {:.1f} \\n for lambda : {}\\n\".format(np.min(MSE_Ridge[:,1]),lambd[np.argmin(MSE_Ridge[:,1])]))\n",
    "\n",
    "\n",
    "\n",
    "plt.figure()\n",
    "plt.plot(np.log10(lambd), R2_Ridge[:,0], 'r*-', label = 'R2 Ridge Train')\n",
    "plt.plot(np.log10(lambd), R2_Ridge[:,1], 'b*-', label = 'R2 Ridge Test')\n",
    "plt.xlabel('$log_{10}(\\lambda)$')\n",
    "plt.ylabel('$R^2$')\n",
    "\n",
    "plt.legend()\n",
    "plt.show()\n"
   ]
  },
  {
   "cell_type": "code",
   "execution_count": 95,
   "metadata": {},
   "outputs": [
    {
     "name": "stdout",
     "output_type": "stream",
     "text": [
      " \n",
      " Minimum MSE reached : 18.3 \n",
      " for degree : 6.0\n",
      " and lambda : 0.1\n"
     ]
    },
    {
     "data": {
      "image/png": "[encoded data removed]",
      "text/plain": [
       "<Figure size 504x360 with 1 Axes>"
      ]
     },
     "metadata": {
      "needs_background": "light"
     },
     "output_type": "display_data"
    }
   ],
   "source": [
    "#Ridge\n",
    "maxdegree = 9\n",
    "\n",
    "nlambdas = 10 \n",
    "lambdas = np.logspace(-1,2, nlambdas)\n",
    "\n",
    "\n",
    "polydegree = np.zeros(maxdegree)\n",
    "\n",
    "best_lambda = np.zeros(maxdegree)\n",
    "\n",
    "mse_test_lambda = np.zeros(nlambdas)\n",
    "\n",
    "MSE_ridge = np.zeros((maxdegree,2))\n",
    "\n",
    "for degree in range(maxdegree):\n",
    "    \n",
    "    poly = PolynomialFeatures(degree+1)\n",
    "    \n",
    "    X = poly.fit_transform(x)\n",
    "    \n",
    "    #train-test split\n",
    "    X_train, X_test, z_train, z_test = train_test_split(np.array(X), np.array(z), test_size=0.3, random_state = 2)\n",
    "    \n",
    "    for i in range(nlambdas):\n",
    "        z_tilde_train, z_tilde_test = Ridge(X_train,X_test,z_train,z_test,lambdas[i])\n",
    "        mse_test_lambda[i] = mean_squared_error(z_test, z_tilde_test)\n",
    "        \n",
    "    best_lambda[degree] = lambdas[np.argmin(mse_test_lambda)]\n",
    "    #print(best_lambda)\n",
    "    \n",
    "    z_tilde_train, z_tilde_test = Ridge(X_train,X_test,z_train,z_test,best_lambda[degree])\n",
    "    \n",
    "    polydegree[degree] = degree + 1\n",
    "\n",
    "    MSE_ridge[degree, 0] = mean_squared_error(z_tilde_train,z_train)\n",
    "    MSE_ridge[degree, 1] = mean_squared_error(z_tilde_test,z_test)\n",
    "    \n",
    "\n",
    "plt.figure(figsize=(7,5))\n",
    "plt.plot(polydegree, MSE_ridge[:, 0], \"y\", label='MSE Train')\n",
    "plt.plot(polydegree, MSE_ridge[:, 1], \"c\", label='MSE Test')\n",
    "\n",
    "print(\" \\n Minimum MSE reached : {:.1f} \\n for degree : {}\\n and lambda : {:}\".format(np.min(MSE_ridge[:,1]),polydegree[np.argmin(MSE_ridge[:,1])],best_lambda[np.argmin(MSE_ridge[:,1])]))\n",
    "\n",
    "plt.xlabel('Complexity(polynomial degree)')\n",
    "#plt.yscale(\"log\")\n",
    "plt.legend()\n",
    "plt.show()"
   ]
  },
  {
   "cell_type": "code",
   "execution_count": 101,
   "metadata": {},
   "outputs": [
    {
     "name": "stdout",
     "output_type": "stream",
     "text": [
      "Bootstrap: \n",
      " Minimum MSE reached : 19.1 \n",
      " for degree : 5.0\n",
      " and lambda : 0.12\n"
     ]
    },
    {
     "data": {
      "image/png": "[encoded data removed]",
      "text/plain": [
       "<Figure size 504x360 with 1 Axes>"
      ]
     },
     "metadata": {
      "needs_background": "light"
     },
     "output_type": "display_data"
    }
   ],
   "source": [
    "#Bootstrap-Ridge\n",
    "maxdegree = 8\n",
    "\n",
    "nlambdas = 50 \n",
    "lambdas = np.logspace(-1,2, nlambdas)\n",
    "\n",
    "n_bootstrap = 50\n",
    "\n",
    "error_ridge = np.zeros(maxdegree)\n",
    "bias_ridge = np.zeros(maxdegree)\n",
    "variance_ridge = np.zeros(maxdegree)\n",
    "\n",
    "polydegree = np.zeros(maxdegree)\n",
    "\n",
    "best_lambda = np.zeros(maxdegree)\n",
    "\n",
    "mse_test_lambda = np.zeros(nlambdas)\n",
    "\n",
    "MSE_boot_ridge = np.zeros((maxdegree,2))\n",
    "\n",
    "for degree in range(maxdegree):\n",
    "    \n",
    "    poly = PolynomialFeatures(degree+1)\n",
    "    \n",
    "    X = poly.fit_transform(x)\n",
    "\n",
    "    \n",
    "    #train-test split\n",
    "    X_train, X_test, z_train, z_test = train_test_split(np.array(X), np.array(z), test_size=0.3, random_state = 2)\n",
    " \n",
    "\n",
    "    for i in range(nlambdas):\n",
    "        _,_, mse_ridge = bootstrap_Ridge(X_train, X_test, z_train, z_test, n_bootstrap, lambdas[i])\n",
    "        mse_test_lambda[i] = np.mean(mse_ridge[:,1])\n",
    "    \n",
    "    best_lambda[degree] = lambdas[np.argmin(mse_test_lambda)]\n",
    "    \n",
    "    z_train_ridge, z_pred_ridge, mse_ridge = bootstrap_Ridge(X_train, X_test, z_train, z_test, n_bootstrap, best_lambda[degree])\n",
    "    \n",
    "    \n",
    "    #reshape test values\n",
    "    z_t = z_test.reshape(len(z_test),1)\n",
    "    polydegree[degree] = degree + 1\n",
    "    \n",
    "    MSE_boot_ridge[degree, 0] = np.mean(mse_ridge[:,0]) \n",
    "    MSE_boot_ridge[degree, 1] = np.mean(mse_ridge[:,1]) \n",
    "    \n",
    "\n",
    "plt.figure(figsize=(7,5))\n",
    "plt.plot(polydegree, MSE_boot_ridge[:, 0], \"y\", label='MSE Train')\n",
    "plt.plot(polydegree, MSE_boot_ridge[:, 1], \"c\", label='MSE Test')\n",
    "\n",
    "\n",
    "\n",
    "print(\"Bootstrap: \\n Minimum MSE reached : {:.1f} \\n for degree : {}\\n and lambda : {:.2f}\".format(np.min(MSE_boot_ridge[:,1]),polydegree[np.argmin(MSE_boot_ridge[:,1])],best_lambda[np.argmin(MSE_boot_ridge[:,1])]))\n",
    "\n",
    "plt.xlabel('Complexity(polynomial degree)')\n",
    "#plt.yscale(\"log\")\n",
    "plt.legend()\n",
    "plt.show()"
   ]
  },
  {
   "cell_type": "code",
   "execution_count": 97,
   "metadata": {},
   "outputs": [
    {
     "name": "stdout",
     "output_type": "stream",
     "text": [
      "CV: \n",
      " Minimum MSE reached : 25.1 \n",
      " for degree : 4.0\n",
      " and lambda : 21.54\n"
     ]
    },
    {
     "data": {
      "image/png": "[encoded data removed]",
      "text/plain": [
       "<Figure size 432x288 with 1 Axes>"
      ]
     },
     "metadata": {
      "needs_background": "light"
     },
     "output_type": "display_data"
    }
   ],
   "source": [
    "#Cross-Validation\n",
    "maxdegree = 4\n",
    "\n",
    "k_folds = 10\n",
    "\n",
    "nlambdas = 10 \n",
    "lambdas = np.logspace(-1,2, nlambdas)\n",
    "best_lambda = np.zeros(maxdegree)\n",
    "MSE_cross_Ridge = np.zeros((maxdegree,2))\n",
    "\n",
    "mse_test_lambda = np.zeros(nlambdas)\n",
    "\n",
    "for degree in range(maxdegree):\n",
    "    \n",
    "    poly = PolynomialFeatures(degree+1)\n",
    "    \n",
    "    X = poly.fit_transform(x)\n",
    "    \n",
    "\n",
    "    for i in range(nlambdas):\n",
    "        _, mse_test_lambda[i] = cross_validation_Ridge(k_folds,X,z,lambdas[i])\n",
    "    \n",
    "    best_lambda[degree] = lambdas[np.argmin(mse_test_lambda)]\n",
    "    \n",
    "    MSE_cross_Ridge[degree,0], MSE_cross_Ridge[degree,1]  = cross_validation_Ridge(k_folds,X,z,best_lambda[degree])\n",
    "    \n",
    "\n",
    "plt.plot(range(1,maxdegree+1),MSE_cross_Ridge[:,0], 'r*-', label = 'MSE Ridge Train')\n",
    "plt.plot(range(1,maxdegree+1),MSE_cross_Ridge[:,1], 'b*-', label = 'MSE Ridge Test')\n",
    "plt.xlabel('Complexity(polynomial degree')\n",
    "plt.ylabel('MSE')\n",
    "plt.legend()\n",
    "\n",
    "print(\"CV: \\n Minimum MSE reached : {:.1f} \\n for degree : {}\\n and lambda : {:.2f}\".format(np.min(MSE_cross_Ridge[:,1]),polydegree[np.argmin(MSE_cross_Ridge[:,1])],best_lambda[np.argmin(MSE_cross_Ridge[:,1])]))\n"
   ]
  },
  {
   "cell_type": "code",
   "execution_count": 98,
   "metadata": {},
   "outputs": [
    {
     "name": "stdout",
     "output_type": "stream",
     "text": [
      "CV: \n",
      " Minimum MSE reached : 25.1 \n",
      " for degree : 4.0\n",
      " and lambda : 21.54\n",
      "[37.46991866 25.60086701 25.27633828 25.11510859]\n"
     ]
    },
    {
     "data": {
      "image/png": "[encoded data removed]",
      "text/plain": [
       "<Figure size 432x288 with 1 Axes>"
      ]
     },
     "metadata": {
      "needs_background": "light"
     },
     "output_type": "display_data"
    }
   ],
   "source": [
    "plt.plot(range(1,maxdegree+1),MSE_cross_Ridge[:,0], 'r*-', label = 'MSE Ridge Train')\n",
    "plt.plot(range(1,maxdegree+1),MSE_cross_Ridge[:,1], 'b*-', label = 'MSE Ridge Test')\n",
    "plt.xlabel('Complexity(polynomial degree')\n",
    "plt.ylabel('MSE')\n",
    "plt.yscale(\"log\")\n",
    "plt.legend()\n",
    "\n",
    "print(\"CV: \\n Minimum MSE reached : {:.1f} \\n for degree : {}\\n and lambda : {:.2f}\".format(np.min(MSE_cross_Ridge[:,1]),polydegree[np.argmin(MSE_cross_Ridge[:,1])],best_lambda[np.argmin(MSE_cross_Ridge[:,1])]))\n",
    "print(MSE_cross_Ridge[:,1])"
   ]
  },
  {
   "cell_type": "code",
   "execution_count": null,
   "metadata": {},
   "outputs": [],
   "source": []
  }
 ],
 "metadata": {
  "kernelspec": {
   "display_name": "Python 3",
   "language": "python",
   "name": "python3"
  },
  "language_info": {
   "codemirror_mode": {
    "name": "ipython",
    "version": 3
   },
   "file_extension": ".py",
   "mimetype": "text/x-python",
   "name": "python",
   "nbconvert_exporter": "python",
   "pygments_lexer": "ipython3",
   "version": "3.8.5"
  }
 },
 "nbformat": 4,
 "nbformat_minor": 5
}
